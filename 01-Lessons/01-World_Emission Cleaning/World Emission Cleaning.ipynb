{
 "cells": [
  {
   "cell_type": "code",
   "execution_count": null,
   "metadata": {},
   "outputs": [],
   "source": [
    "# Import Pandas\n",
    "import pandas as pd"
   ]
  },
  {
   "cell_type": "code",
   "execution_count": null,
   "metadata": {},
   "outputs": [],
   "source": [
    "# Create a Dataframe with the world emission data\n",
    "df = pd.read_csv(\"./data/owid-co2-data.csv\")\n",
    "\n",
    "# Fill the blank data with 0 since all blanks are numbers\n",
    "df = df.fillna(0)\n",
    "df.head()\n",
    "\n",
    "\n",
    "# Make a dataframe with only data from 1970 to the most current year\n",
    "# Clear remaining NAN and reset the index\n",
    "df = df.where(df[\"year\"] >= 1970, axis=0).dropna().reset_index(drop=True)\n",
    "df"
   ]
  }
 ],
 "metadata": {
  "language_info": {
   "name": "python"
  }
 },
 "nbformat": 4,
 "nbformat_minor": 2
}
