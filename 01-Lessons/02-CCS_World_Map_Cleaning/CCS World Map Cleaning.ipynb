{
 "cells": [
  {
   "cell_type": "code",
   "execution_count": null,
   "metadata": {},
   "outputs": [],
   "source": [
    "import pandas as pd\n",
    "import matplotlib.pyplot as plt\n",
    "import seaborn as sns\n",
    "import geopandas\n",
    "%matplotlib inline"
   ]
  },
  {
   "cell_type": "code",
   "execution_count": null,
   "metadata": {},
   "outputs": [],
   "source": [
    "# Read in the excel sheet of the CCS projects around the world\n",
    "df = pd.read_excel(\"./data/CCS Map Data Jan2023.xlsx\").set_index(\"Country Location\")\n",
    "df.head()\n"
   ]
  },
  {
   "cell_type": "code",
   "execution_count": null,
   "metadata": {},
   "outputs": [],
   "source": [
    "# Question: How can we create a new DataFrame with \"Overall Status\", \"Latitude\", \"Longitude\" columns?\n",
    "# Answer:\n",
    "\n",
    "\n"
   ]
  },
  {
   "cell_type": "code",
   "execution_count": null,
   "metadata": {},
   "outputs": [],
   "source": [
    "# Question: How do we fill in missing values\n",
    "# Answer:\n",
    "\n",
    "# Question: How do you replace \"Completed\" with \"active\" and replace \"hold\" and \"unidentified\" with \"Potential\"\n",
    "# Answer:\n"
   ]
  },
  {
   "cell_type": "code",
   "execution_count": null,
   "metadata": {},
   "outputs": [],
   "source": [
    "# Geopandas has a map of the world to use as the background of a plot\n",
    "WorldMap = geopandas.read_file(geopandas.datasets.get_path(\"naturalearth_lowres\"))\n",
    "\n",
    "# Change the size and color of the map in the background\n",
    "fig, ax = plt.subplots(figsize=(16, 10))\n",
    "WorldMap.plot(color=\"grey\", ax=ax)\n",
    "\n",
    "# Question: How do you Create variables for the latitude, longitude, overall status\n",
    "\n",
    "\n",
    "# Question: How do you Define custom colors for each status category \"Active\", \"Potential\", \"Terminated\"\n",
    "\n",
    "\n",
    "# Map the status to colors for each point\n",
    "point_colors = status.map(custom_colors)\n",
    "\n",
    "#Question: How do you Use a scatter plot to plot the variables and show where the locations are, with color-coded points\n",
    "\n",
    "\n",
    "# Add limits to the plot\n",
    "plt.xlim([-180, 180])\n",
    "plt.ylim([-90, 90])\n",
    "\n",
    "#Question: How do you Add a legend for the status level\n",
    "\n",
    "\n",
    "# Add title and labels\n",
    "plt.title(\"Carbon Capture and Storage Locations\")\n",
    "plt.xlabel(\"Longitude\")\n",
    "plt.ylabel(\"Latitude\")\n",
    "plt.show()"
   ]
  },
  {
   "cell_type": "code",
   "execution_count": null,
   "metadata": {},
   "outputs": [],
   "source": [
    "#Question: How do you Create a series for \"Overall status\" \n",
    "#          by using a bar graph for the series?\n",
    "\n",
    "\n",
    "# Question: How do you Annotate each bar with its total\n",
    "\n",
    "\n",
    "# Add title and labels\n",
    "plt.title(\"CCS Project Status\")\n",
    "plt.xlabel(\"Status\")\n",
    "plt.ylabel(\"Project Count\")\n",
    "plt.show()"
   ]
  },
  {
   "cell_type": "code",
   "execution_count": null,
   "metadata": {},
   "outputs": [],
   "source": [
    "\n",
    "# Question: How can we filter the DataFrame to include only the data for the United States?\n",
    "\n"
   ]
  },
  {
   "cell_type": "code",
   "execution_count": null,
   "metadata": {},
   "outputs": [],
   "source": [
    "#Question: how do you Use Geopandas to get a path to the world map\n",
    "\n",
    "\n",
    "#Question: how do you Use a filter to get the USA\n",
    "\n",
    "\n",
    "# Change the size and color of the map in the background\n",
    "fig, ax = plt.subplots(figsize=(10, 10))\n",
    "usaMap.plot(color=\"grey\", edgecolor=\"black\", ax=ax)\n",
    "\n",
    "#Question: how do you Create variables for the latitude, longitude, and overall status\n",
    "\n",
    "\n",
    "#Question: how do you Define custom colors for each status category \"Active\", \"Potential\", \"Terminated\"\n",
    "\n",
    "\n",
    "# Map the status to colors for each point\n",
    "point_colors = status.map(custom_colors)\n",
    "\n",
    "#Question: how do you Use a scatter plot to plot the variables and show where the locations are, with color-coded points\n",
    "\n",
    "\n",
    "#Question: how do you Add limits to the plot to get a close up of the USA\n",
    "\n",
    "\n",
    "#Question: how do you Add a legend for the status levels\n",
    "\n",
    "\n",
    "# Add title and labels\n",
    "plt.title(\"Carbon Capture and Storage Locations (USA)\")\n",
    "plt.xlabel(\"Longitude\")\n",
    "plt.ylabel(\"Latitude\")\n",
    "plt.show()"
   ]
  },
  {
   "cell_type": "code",
   "execution_count": null,
   "metadata": {},
   "outputs": [],
   "source": [
    "# Create a series for \"Overall status\" by using \n",
    "# a bar graph and annotating each bar\n",
    "\n",
    "\n",
    "# Add title and labels\n",
    "plt.title(\"CCS Project Status (USA)\")\n",
    "plt.xlabel(\"Status\")\n",
    "plt.ylabel(\"Project Count\")\n",
    "plt.show()"
   ]
  }
 ],
 "metadata": {
  "language_info": {
   "name": "python"
  }
 },
 "nbformat": 4,
 "nbformat_minor": 2
}
