{
 "cells": [
  {
   "cell_type": "code",
   "execution_count": null,
   "metadata": {},
   "outputs": [],
   "source": [
    "from sklearn.model_selection import train_test_split\n",
    "import pandas as pd\n",
    "import Utils.project_libs as libs"
   ]
  },
  {
   "cell_type": "code",
   "execution_count": null,
   "metadata": {},
   "outputs": [],
   "source": [
    "def split_data(data, target_column, split_size=0.2, random_state=42):\n",
    "    \"\"\"\n",
    "    Splits the data into features (X) and target (y), and further splits them into\n",
    "    training and testing sets.\n",
    "\n",
    "    Parameters:\n",
    "    - data: Pandas DataFrame, input data\n",
    "    - target_column: str, the name of the target column\n",
    "    - split_size: float, the proportion of the data to include in the test split (default is 0.2)\n",
    "    - random_state: int or None, seed for random number generation (default is None)\n",
    "\n",
    "    Returns:\n",
    "    - X_train, X_test, y_train, y_test: Training and testing sets for features (X) and target (y)\n",
    "    \n",
    "    - # Example usage:\n",
    "    # Assuming 'your_data' is your DataFrame and 'your_target_column' is the target column name\n",
    "    X_train, X_test, y_train, y_test = split_data(your_data, 'your_target_column', split_size=0.2, random_state=42)\n",
    "    \"\"\"\n",
    "    try:\n",
    "        print(f'Data Frame shape {data.shape}')\n",
    "\n",
    "        # What should be done to ensure proper separation of features (X) and target (y)?\n",
    "\n",
    "\n",
    "        # What is the significance of performing the initial split into training and testing sets?\n",
    "\n",
    "        print(f'{X_train.shape, X_test.shape, y_train.shape, y_test.shape}')\n",
    "        return X_train, X_test, y_train, y_test\n",
    "    except ValueError as ve:\n",
    "        \n",
    "        # What potential error could occur during the extraction of features and target?\n",
    "\n",
    "        print(f\"Error: {ve}\")\n",
    "        return None, None, None, None\n",
    "    except Exception as e:\n",
    "        \n",
    "        # How should unexpected errors be handled in the function?\n",
    "\n",
    "        print(f\"An unexpected error occurred: {e}\")\n",
    "        return None, None, None, None\n"
   ]
  }
 ],
 "metadata": {
  "language_info": {
   "name": "python"
  }
 },
 "nbformat": 4,
 "nbformat_minor": 2
}
