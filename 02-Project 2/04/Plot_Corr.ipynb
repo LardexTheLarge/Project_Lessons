{
 "cells": [
  {
   "cell_type": "code",
   "execution_count": null,
   "metadata": {},
   "outputs": [],
   "source": [
    "import numpy as np\n",
    "import seaborn as sns\n",
    "import pandas as pd\n",
    "import matplotlib.pyplot as plt"
   ]
  },
  {
   "cell_type": "code",
   "execution_count": null,
   "metadata": {},
   "outputs": [],
   "source": [
    "def plot_correlation(data):\n",
    "    \"\"\"\n",
    "    Plot correlation matrix using Seaborn.\n",
    "\n",
    "    Parameters:\n",
    "    - data: Pandas DataFrame, the input data for which to calculate and visualize the correlation.\n",
    "    \"\"\"\n",
    "    # Question: What essential step is missing here to calculate the correlation matrix?\n",
    "    \n",
    "    # Set up the matplotlib figure size\n",
    "    \n",
    "    # Create a heatmap using Seaborn\n",
    "    sns.heatmap(corr_matrix, annot=True, cmap='coolwarm', fmt=\".2f\", linewidths=.5)\n",
    "    \n",
    "    # Show the plot\n",
    "    plt.title('Correlation Matrix')\n",
    "    plt.show()"
   ]
  }
 ],
 "metadata": {
  "language_info": {
   "name": "python"
  }
 },
 "nbformat": 4,
 "nbformat_minor": 2
}
