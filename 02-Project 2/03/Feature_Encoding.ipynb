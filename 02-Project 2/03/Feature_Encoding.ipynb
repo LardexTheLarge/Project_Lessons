{
 "cells": [
  {
   "cell_type": "code",
   "execution_count": null,
   "metadata": {},
   "outputs": [],
   "source": [
    "from sklearn.preprocessing import OneHotEncoder, LabelEncoder\n",
    "import Utils.project_libs as libs"
   ]
  },
  {
   "cell_type": "code",
   "execution_count": null,
   "metadata": {},
   "outputs": [],
   "source": [
    "def Feature_Encoding(df, features=None, encoding_method='one_hot'):\n",
    "    \"\"\"\n",
    "    Apply feature encoding (one-hot encoding or label encoding) to specified features in a DataFrame.\n",
    "\n",
    "    Parameters:\n",
    "    - df: DataFrame containing the data\n",
    "    - features: List of feature column names to encode\n",
    "    - encoding_method: Method for encoding categorical features ('one_hot' or 'label')\n",
    "\n",
    "    Returns:\n",
    "    - DataFrame with encoded features\n",
    "    \"\"\"\n",
    "    try:\n",
    "        # BONUS questions 1 - 3: Error handling\n",
    "        # 1. What checks should be performed to ensure the validity of input arguments?\n",
    "        \n",
    "\n",
    "        # 2. How should the function handle the scenario where no features are provided?\n",
    "\n",
    "\n",
    "        # 3. What validation should be performed on the encoding method?\n",
    "\n",
    "        if encoding_method not in ['one_hot', 'label']:\n",
    "            raise ValueError(\"Invalid encoding method. Please choose 'one_hot' or 'label'.\")\n",
    "        \n",
    "        # Create an if else statement for one hot encoder or label encoder\n",
    "\n",
    "        if encoding_method == 'one_hot':\n",
    "            encoder = OneHotEncoder()\n",
    "\n",
    "            # Finish the for loop to run through each column. Use this line of code in the for loop. df[col] = encoder.fit_transform(df[col])\n",
    "            for col in features:\n",
    "\n",
    "        return df\n",
    "\n",
    "    except Exception as e:\n",
    "        print(f\"An error occurred: {str(e)}\")\n"
   ]
  }
 ],
 "metadata": {
  "language_info": {
   "name": "python"
  }
 },
 "nbformat": 4,
 "nbformat_minor": 2
}
