{
 "cells": [
  {
   "cell_type": "code",
   "execution_count": null,
   "metadata": {},
   "outputs": [],
   "source": [
    "import numpy as np\n",
    "import pandas as pd\n",
    "from sklearn.model_selection import train_test_split, RandomizedSearchCV"
   ]
  },
  {
   "cell_type": "code",
   "execution_count": null,
   "metadata": {},
   "outputs": [],
   "source": [
    "def hyperparameter_tuning(model, param_grid, X_train, y_train, scoring):\n",
    "    \"\"\"\n",
    "    Perform hyperparameter tuning using Randomized Search CV on a given model.\n",
    "\n",
    "    Parameters:\n",
    "    - model: Estimator object (model to be tuned)\n",
    "    - param_grid: Dictionary of hyperparameter distributions to search\n",
    "    - X_train: Training features\n",
    "    - y_train: Training target variable\n",
    "    - scoring: Scoring metric to optimize during tuning\n",
    "\n",
    "    Returns:\n",
    "    - best_model: Best estimator model after tuning\n",
    "    - best_params: Best parameters found during tuning\n",
    "    \"\"\"\n",
    "    # Question: What function should be used to perform hyperparameter tuning? (estimator=model, param_distributions=param_grid, scoring=scoring, n_iter=100, cv=5, random_state=42)\n",
    "\n",
    "\n",
    "    # Question: How can the hyperparameter tuning be conducted on the training data?\n",
    "\n",
    "\n",
    "    # Question: How can the best parameters and model be obtained after tuning?\n",
    "    best_params = \n",
    "    best_model = \n",
    "\n",
    "    return best_model, best_params\n"
   ]
  }
 ],
 "metadata": {
  "language_info": {
   "name": "python"
  }
 },
 "nbformat": 4,
 "nbformat_minor": 2
}
