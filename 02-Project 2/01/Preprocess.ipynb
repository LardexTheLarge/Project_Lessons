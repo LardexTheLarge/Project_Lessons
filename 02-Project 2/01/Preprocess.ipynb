{
 "cells": [
  {
   "cell_type": "code",
   "execution_count": null,
   "metadata": {},
   "outputs": [],
   "source": [
    "def preprocess_missing_values(df):\n",
    "    \"\"\"\n",
    "    Preprocess a DataFrame to handle missing values.\n",
    "    Parameters:\n",
    "    - df (pandas.DataFrame): DataFrame containing the data.\n",
    "    Returns:\n",
    "    - df (pandas.DataFrame): Preprocessed DataFrame with no missing values.\n",
    "    \"\"\"\n",
    "    try:\n",
    "        # What should be done if no missing values are found in the DataFrame?\n",
    "\n",
    "        if missing_values_sum.sum() == 0:\n",
    "            print(\"No missing values found. No imputation needed.\")\n",
    "            return df\n",
    "        else:\n",
    "            # For numerical columns, fill missing values with the median\n",
    "            for col in df.select_dtypes(include=['float64', 'int64']).columns:\n",
    "                df[col].fillna(df[col].median(), inplace=True)\n",
    "\n",
    "            # What is the appropriate method to fill missing values in categorical columns?\n",
    "\n",
    "        return df\n",
    "    except NameError as e:\n",
    "        print(e)\n",
    "        return None"
   ]
  }
 ],
 "metadata": {
  "language_info": {
   "name": "python"
  }
 },
 "nbformat": 4,
 "nbformat_minor": 2
}
