{
 "cells": [
  {
   "cell_type": "code",
   "execution_count": null,
   "metadata": {},
   "outputs": [],
   "source": [
    "import numpy as np\n",
    "import pandas as pd\n",
    "from scipy import stats"
   ]
  },
  {
   "cell_type": "code",
   "execution_count": null,
   "metadata": {},
   "outputs": [],
   "source": [
    "def remove_outliers(df, threshold=1.5):\n",
    "    \"\"\"\n",
    "    Remove outliers from all columns of a DataFrame using the IQR method.\n",
    "\n",
    "    Parameters:\n",
    "    - df: DataFrame\n",
    "    - threshold: float, optional (default=1.5)\n",
    "        Threshold value for identifying outliers. Data points beyond this threshold\n",
    "        multiplied by the IQR will be considered outliers.\n",
    "\n",
    "    Returns:\n",
    "    - DataFrame without outliers\n",
    "    \"\"\"\n",
    "    # Question: What method can be used to create a copy of the DataFrame to avoid modifying the original one?\n",
    "    df_cleaned = \n",
    "\n",
    "    # Iterate through each column\n",
    "    for column in df.columns:\n",
    "        # Calculate the IQR for the column\n",
    "        \n",
    "        # Question: How can the IQR (Interquartile Range) be calculated for each column?\n",
    "        Q1 = \n",
    "        Q3 = \n",
    "        IQR = Q3 - Q1\n",
    "\n",
    "        # Define the lower and upper bounds to identify outliers\n",
    "        \n",
    "        # Question: How can the lower and upper bounds be defined using the calculated IQR and threshold?\n",
    "        lower_bound =\n",
    "        upper_bound =\n",
    "\n",
    "        # Remove outliers based on the bounds\n",
    "        df_cleaned = df_cleaned[(df_cleaned[column] >= lower_bound) & (df_cleaned[column] <= upper_bound)]\n",
    "\n",
    "    return df_cleaned\n"
   ]
  }
 ],
 "metadata": {
  "language_info": {
   "name": "python"
  }
 },
 "nbformat": 4,
 "nbformat_minor": 2
}
